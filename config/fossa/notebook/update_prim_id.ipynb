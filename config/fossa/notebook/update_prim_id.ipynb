{
 "cells": [
  {
   "cell_type": "code",
   "execution_count": 1,
   "metadata": {},
   "outputs": [],
   "source": [
    "request_prim_id_map = {\n",
    "    \"7753_399485\" : \"29/CAX1057105\",\n",
    "    \"7753_399474\" :  \"15/CTX1025843\"\n",
    "}"
   ]
  },
  {
   "cell_type": "code",
   "execution_count": 2,
   "metadata": {},
   "outputs": [],
   "source": [
    "def source_string(request_id):\n",
    "    return f\"\"\"\n",
    "  bazaar:\n",
    "    register: '{request_id}'\n",
    "    prim: ''\n",
    "\"\"\""
   ]
  },
  {
   "cell_type": "code",
   "execution_count": 3,
   "metadata": {},
   "outputs": [],
   "source": [
    "def target_string(prim_id):\n",
    "    return f\"\"\"\n",
    "  bazaar:\n",
    "    register: 'no'\n",
    "    prim: {prim_id}\n",
    "\"\"\""
   ]
  },
  {
   "cell_type": "code",
   "execution_count": 4,
   "metadata": {},
   "outputs": [],
   "source": [
    "DEPENDENCIES_FILE=\"../dependencies.argowf.yaml\""
   ]
  },
  {
   "cell_type": "code",
   "execution_count": 5,
   "metadata": {},
   "outputs": [],
   "source": [
    "with open(DEPENDENCIES_FILE, 'r') as source:\n",
    "    data = source.read()\n",
    "    for requestID, primID in request_prim_id_map.items():\n",
    "        data = data.replace(source_string(requestID), target_string(primID))\n",
    "\n",
    "with open(DEPENDENCIES_FILE, 'w') as target:\n",
    "    target.write(data)\n",
    "    \n",
    "    "
   ]
  }
 ],
 "metadata": {
  "kernelspec": {
   "display_name": "test-py3.10",
   "language": "python",
   "name": "python3"
  },
  "language_info": {
   "codemirror_mode": {
    "name": "ipython",
    "version": 3
   },
   "file_extension": ".py",
   "mimetype": "text/x-python",
   "name": "python",
   "nbconvert_exporter": "python",
   "pygments_lexer": "ipython3",
   "version": "3.10.11"
  },
  "orig_nbformat": 4
 },
 "nbformat": 4,
 "nbformat_minor": 2
}
