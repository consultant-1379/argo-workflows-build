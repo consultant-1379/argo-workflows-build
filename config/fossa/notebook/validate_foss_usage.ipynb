{
 "cells": [
  {
   "cell_type": "code",
   "execution_count": 1,
   "metadata": {},
   "outputs": [
    {
     "data": {
      "text/plain": [
       "['../foss.usage.argowf.yaml',\n",
       " '../foss.usage.3pp.yaml',\n",
       " '../foss.usage.webhook.yaml',\n",
       " '../foss.usage.argoui.yaml']"
      ]
     },
     "execution_count": 1,
     "metadata": {},
     "output_type": "execute_result"
    }
   ],
   "source": [
    "components = [ \"argowf\", \"3pp\", \"webhook\", \"argoui\"]\n",
    "\n",
    "fossUsageFiles= [ f\"../foss.usage.{component}.yaml\" for component in components]\n",
    "\n",
    "fossUsageFiles"
   ]
  },
  {
   "cell_type": "code",
   "execution_count": 2,
   "metadata": {},
   "outputs": [
    {
     "name": "stdout",
     "output_type": "stream",
     "text": [
      "Validating ../foss.usage.argowf.yaml\n",
      "Validated ../foss.usage.argowf.yaml\n",
      "Validating ../foss.usage.3pp.yaml\n",
      "Validated ../foss.usage.3pp.yaml\n",
      "Validating ../foss.usage.webhook.yaml\n",
      "Validated ../foss.usage.webhook.yaml\n",
      "Validating ../foss.usage.argoui.yaml\n",
      "Validated ../foss.usage.argoui.yaml\n"
     ]
    }
   ],
   "source": [
    "import yaml\n",
    "\n",
    "for file in fossUsageFiles:\n",
    "    print(f\"Validating {file}\")\n",
    "    with open(file) as f:\n",
    "        data = yaml.load(f, Loader=yaml.FullLoader)\n",
    "        for entry in data[\"fosses\"]:\n",
    "            product_number = entry['product_number']\n",
    "            for k,v in entry.items():\n",
    "                strippedValue = v.lstrip('\"').rstrip('\"').strip()\n",
    "                if len(strippedValue) == 0:\n",
    "                    print(f\"ERROR: {file} has empty value for key {k} for {product_number}\")\n",
    "    print(f\"Validated {file}\")"
   ]
  }
 ],
 "metadata": {
  "kernelspec": {
   "display_name": "test-py3.10",
   "language": "python",
   "name": "python3"
  },
  "language_info": {
   "codemirror_mode": {
    "name": "ipython",
    "version": 3
   },
   "file_extension": ".py",
   "mimetype": "text/x-python",
   "name": "python",
   "nbconvert_exporter": "python",
   "pygments_lexer": "ipython3",
   "version": "3.10.11"
  }
 },
 "nbformat": 4,
 "nbformat_minor": 2
}
