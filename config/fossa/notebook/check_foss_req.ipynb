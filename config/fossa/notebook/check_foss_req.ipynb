{
 "cells": [
  {
   "cell_type": "code",
   "execution_count": 22,
   "metadata": {},
   "outputs": [],
   "source": [
    "SCAS_ACCESS_TOKEN=\"eyJhbGciOiJSUzI1NiIsInR5cCIgOiAiSldUIiwia2lkIiA6ICJGamZmOVJ2eFBIand2RGQ3OVlmUldpekhPdld5eTNlelpfdno5MlBBSWs0In0.eyJleHAiOjE2OTM1NjYzODYsImlhdCI6MTY5MzU2NTQ4NiwianRpIjoiNmRmODI1YmMtYzJiYS00MDVhLTlkYjMtNWRmOTZiNWZiNWNhIiwiaXNzIjoiaHR0cHM6Ly9zY2FzLmludGVybmFsLmVyaWNzc29uLmNvbS9hdXRoL3JlYWxtcy9TQ0EiLCJzdWIiOiI3MTczNDA0MC1iZjVjLTRhYjYtOTVlZS1kMTk3ZWFkMmQxMzkiLCJ0eXAiOiJCZWFyZXIiLCJhenAiOiJzY2FzLWV4dC1jbGllbnQtZGlyZWN0Iiwic2Vzc2lvbl9zdGF0ZSI6ImFjZmQ0MmViLWQyMzUtNDc1Ny04NDc3LWYwNzA3MmY4OGU0NiIsImFjciI6IjEiLCJyZWFsbV9hY2Nlc3MiOnsicm9sZXMiOlsib2ZmbGluZV9hY2Nlc3MiXX0sInNjb3BlIjoib2ZmbGluZV9hY2Nlc3MiLCJzaWQiOiJhY2ZkNDJlYi1kMjM1LTQ3NTctODQ3Ny1mMDcwNzJmODhlNDYiLCJuYW1lIjoiUmFtYW4gTiIsInByZWZlcnJlZF91c2VybmFtZSI6ImVueHhyYW0iLCJnaXZlbl9uYW1lIjoiUmFtYW4iLCJmYW1pbHlfbmFtZSI6Ik4iLCJlbWFpbCI6InJhbWFuLm5AZXJpY3Nzb24uY29tIn0.EOVLMQpwcGoG6zCC5XeOv_2IVr_r48sFbj9CJiKT1d6ht0R1U-nvU6_oshGeRtKWIwf0D-dsghvlKlWflSJ-ymOXed3MbbYqBFjJUuZt7JHfG4mwqGHlLETYa8pScJw9NXKMOecX_97GTSUx1puPIQnfIu9Tfs9EYL4qEqcCcROXUm3v98LGkuwMn5BQOredsmPGqapP8aTWxcH9tI7fDgiPnsntHxAPWtqci924yXI2YhHVdpwvOvfT319yBkVX43zhL_y0M0DE3aBzy7EdYgUifZf-qVU8vZT63mdn0XITwDtudml2uc6z4mbyDLI5vcoairb7YxB2KweM-nQZuQ\"\n"
   ]
  },
  {
   "cell_type": "code",
   "execution_count": 23,
   "metadata": {},
   "outputs": [],
   "source": [
    "import os\n",
    "os.environ[\"REQUESTS_CA_BUNDLE\"] = \"/etc/ssl/certs/ca-certificates.crt\""
   ]
  },
  {
   "cell_type": "code",
   "execution_count": 29,
   "metadata": {},
   "outputs": [
    {
     "name": "stdout",
     "output_type": "stream",
     "text": [
      "https://scas.internal.ericsson.com/ordering/user-requests/my/search?size=500&sort=id%2Cdesc&filter=productId%2Ceq%2C7753&filter=versionId%2Ceq%2C8607\n",
      "200\n",
      "Success!\n",
      "{\"content\":[{\"id\":399491,\"productId\":7753,\"versionId\":8607,\"requestDate\":\"2023-09-01\",\"requester\":\"enxxram\",\"compName\":\"typescript\",\"compVersion\":\"4.6.4\",\"requestType\":\"FOSS\",\"request3ppStatus\":\"SUBMITTED\",\"request3ppNumber\":1058996,\"compProdNumber\":\"\",\"assignee\":null,\"licenses\":null},{\"id\":399490,\"productId\":7753,\"versionId\":8607,\"requestDate\":\"2023-09-01\",\"requester\":\"enxxram\",\"compName\":\"superagent\",\"compVersion\":\"8.0.9\",\"requestType\":\"FOSS\",\"request3ppStatus\":\"SUBMITTED\",\"request3ppNumber\":1058995,\"compProdNumber\":\"\",\"assignee\":null,\"licenses\":null},{\"id\":399489,\"productId\":7753,\"versionId\":8607,\"requestDate\":\"2023-09-01\",\"requester\":\"enxxram\",\"compName\":\"react-monaco-editor\",\"compVersion\":\"0.50.1\",\"requestType\":\"FOSS\",\"request3ppStatus\":\"SUBMITTED\",\"request3ppNumber\":1058994,\"compProdNumber\":\"\",\"assignee\":null,\"licenses\":null},{\"id\":399488,\"productId\":7753,\"versionId\":8607,\"requestDate\":\"2023-09-01\",\"requester\":\"enxxram\",\"compName\":\"react-moment\",\"compVersion\":\"1.1.3\",\"requestType\":\"FOSS\",\"request3ppStatus\":\"SUBMITTED\",\"request3ppNumber\":1058993,\"compProdNumber\":\"\",\"assignee\":null,\"licenses\":null},{\"id\":399487,\"productId\":7753,\"versionId\":8607,\"requestDate\":\"2023-09-01\",\"requester\":\"enxxram\",\"compName\":\"react-dom\",\"compVersion\":\"16.14.0\",\"requestType\":\"FOSS\",\"request3ppStatus\":\"SUBMITTED\",\"request3ppNumber\":1058992,\"compProdNumber\":\"\",\"assignee\":null,\"licenses\":null},{\"id\":399486,\"productId\":7753,\"versionId\":8607,\"requestDate\":\"2023-09-01\",\"requester\":\"enxxram\",\"compName\":\"react-chartjs-2\",\"compVersion\":\"2.11.2\",\"requestType\":\"FOSS\",\"request3ppStatus\":\"SUBMITTED\",\"request3ppNumber\":1058991,\"compProdNumber\":\"\",\"assignee\":null,\"licenses\":null},{\"id\":399484,\"productId\":7753,\"versionId\":8607,\"requestDate\":\"2023-09-01\",\"requester\":\"enxxram\",\"compName\":\"Go Time\",\"compVersion\":\"2c09566ef13fb5556401ddff3c53c3dbc2a42dac\",\"requestType\":\"FOSS\",\"request3ppStatus\":\"SUBMITTED\",\"request3ppNumber\":1058990,\"compProdNumber\":\"\",\"assignee\":null,\"licenses\":null},{\"id\":399483,\"productId\":7753,\"versionId\":8607,\"requestDate\":\"2023-09-01\",\"requester\":\"enxxram\",\"compName\":\"exp, Golang\",\"compVersion\":\"4a0574d9293f49b845ffe3ee2022d9124a127a57\",\"requestType\":\"FOSS\",\"request3ppStatus\":\"SUBMITTED\",\"request3ppNumber\":1058989,\"compProdNumber\":\"\",\"assignee\":null,\"licenses\":null},{\"id\":399482,\"productId\":7753,\"versionId\":8607,\"requestDate\":\"2023-09-01\",\"requester\":\"enxxram\",\"compName\":\"go-color\",\"compVersion\":\"1.4.0\",\"requestType\":\"FOSS\",\"request3ppStatus\":\"SUBMITTED\",\"request3ppNumber\":1058988,\"compProdNumber\":\"\",\"assignee\":null,\"licenses\":null},{\"id\":399481,\"productId\":7753,\"versionId\":8607,\"requestDate\":\"2023-09-01\",\"requester\":\"enxxram\",\"compName\":\"go-limiter\",\"compVersion\":\"0.7.2\",\"requestType\":\"FOSS\",\"request3ppStatus\":\"SUBMITTED\",\"request3ppNumber\":1058987,\"compProdNumber\":\"\",\"assignee\":null,\"licenses\":null},{\"id\":399480,\"productId\":7753,\"versionId\":8607,\"requestDate\":\"2023-09-01\",\"requester\":\"enxxram\",\"compName\":\"gengo\",\"compVersion\":\"397b4ae3bce7fe32c724a43a2c59dfa45dc940ba\",\"requestType\":\"FOSS\",\"request3ppStatus\":\"SUBMITTED\",\"request3ppNumber\":1058986,\"compProdNumber\":\"\",\"assignee\":null,\"licenses\":null},{\"id\":399479,\"productId\":7753,\"versionId\":8607,\"requestDate\":\"2023-09-01\",\"requester\":\"enxxram\",\"compName\":\"pgzip\",\"compVersion\":\"17e8dac29df8ce00febbd08ee5d8ee922024a003\",\"requestType\":\"FOSS\",\"request3ppStatus\":\"SUBMITTED\",\"request3ppNumber\":1058985,\"compProdNumber\":\"\",\"assignee\":null,\"licenses\":null},{\"id\":399478,\"productId\":7753,\"versionId\":8607,\"requestDate\":\"2023-09-01\",\"requester\":\"enxxram\",\"compName\":\"gojq\",\"compVersion\":\"0.12.12\",\"requestType\":\"FOSS\",\"request3ppStatus\":\"SUBMITTED\",\"request3ppNumber\":1058984,\"compProdNumber\":\"\",\"assignee\":null,\"licenses\":null},{\"id\":399477,\"productId\":7753,\"versionId\":8607,\"requestDate\":\"2023-09-01\",\"requester\":\"enxxram\",\"compName\":\"Google APIs Client Library for Go\",\"compVersion\":\"0.128.0\",\"requestType\":\"FOSS\",\"request3ppStatus\":\"SUBMITTED\",\"request3ppNumber\":1058983,\"compProdNumber\":\"\",\"assignee\":null,\"licenses\":null},{\"id\":399476,\"productId\":7753,\"versionId\":8607,\"requestDate\":\"2023-09-01\",\"requester\":\"enxxram\",\"compName\":\"Go generated proto packages\",\"compVersion\":\"e85fd2cbaebc35e54b279b5e9b1057db87dacd57\",\"requestType\":\"FOSS\",\"request3ppStatus\":\"SUBMITTED\",\"request3ppNumber\":1058982,\"compProdNumber\":\"\",\"assignee\":null,\"licenses\":null},{\"id\":399475,\"productId\":7753,\"versionId\":8607,\"requestDate\":\"2023-09-01\",\"requester\":\"enxxram\",\"compName\":\"go-containerregistry\",\"compVersion\":\"2042cc9d640186758d14e44f28167a542ea17628\",\"requestType\":\"FOSS\",\"request3ppStatus\":\"SUBMITTED\",\"request3ppNumber\":1058981,\"compProdNumber\":\"\",\"assignee\":null,\"licenses\":null},{\"id\":399473,\"productId\":7753,\"versionId\":8607,\"requestDate\":\"2023-09-01\",\"requester\":\"enxxram\",\"compName\":\"Azure SDK for Go\",\"compVersion\":\"sdk/azidentity/v1.2.2\",\"requestType\":\"FOSS\",\"request3ppStatus\":\"SUBMITTED\",\"request3ppNumber\":1058980,\"compProdNumber\":\"\",\"assignee\":null,\"licenses\":null},{\"id\":399472,\"productId\":7753,\"versionId\":8607,\"requestDate\":\"2023-09-01\",\"requester\":\"enxxram\",\"compName\":\"Azure SDK for Go\",\"compVersion\":\"sdk/azcore/v1.6.0\",\"requestType\":\"FOSS\",\"request3ppStatus\":\"SUBMITTED\",\"request3ppNumber\":1058979,\"compProdNumber\":\"\",\"assignee\":null,\"licenses\":null},{\"id\":399471,\"productId\":7753,\"versionId\":8607,\"requestDate\":\"2023-09-01\",\"requester\":\"enxxram\",\"compName\":\"argo-events\",\"compVersion\":\"1.7.3\",\"requestType\":\"FOSS\",\"request3ppStatus\":\"SUBMITTED\",\"request3ppNumber\":1058978,\"compProdNumber\":\"\",\"assignee\":null,\"licenses\":null},{\"id\":399470,\"productId\":7753,\"versionId\":8607,\"requestDate\":\"2023-09-01\",\"requester\":\"enxxram\",\"compName\":\"go-git\",\"compVersion\":\"5.4.6\",\"requestType\":\"FOSS\",\"request3ppStatus\":\"SUBMITTED\",\"request3ppNumber\":1058977,\"compProdNumber\":\"\",\"assignee\":null,\"licenses\":null},{\"id\":399469,\"productId\":7753,\"versionId\":8607,\"requestDate\":\"2023-09-01\",\"requester\":\"enxxram\",\"compName\":\"expr\",\"compVersion\":\"1.12.5\",\"requestType\":\"FOSS\",\"request3ppStatus\":\"SUBMITTED\",\"request3ppNumber\":1058976,\"compProdNumber\":\"\",\"assignee\":null,\"licenses\":null},{\"id\":399468,\"productId\":7753,\"versionId\":8607,\"requestDate\":\"2023-09-01\",\"requester\":\"enxxram\",\"compName\":\"Alibaba Cloud OSS SDK for Go\",\"compVersion\":\"2.2.7\",\"requestType\":\"FOSS\",\"request3ppStatus\":\"SUBMITTED\",\"request3ppNumber\":1058975,\"compProdNumber\":\"\",\"assignee\":null,\"licenses\":null},{\"id\":399467,\"productId\":7753,\"versionId\":8607,\"requestDate\":\"2023-09-01\",\"requester\":\"enxxram\",\"compName\":\"cronstrue\",\"compVersion\":\"2.27.0\",\"requestType\":\"FOSS\",\"request3ppStatus\":\"SUBMITTED\",\"request3ppNumber\":1058974,\"compProdNumber\":\"\",\"assignee\":null,\"licenses\":null},{\"id\":399466,\"productId\":7753,\"versionId\":8607,\"requestDate\":\"2023-09-01\",\"requester\":\"enxxram\",\"compName\":\"cron-parser\",\"compVersion\":\"4.8.1\",\"requestType\":\"FOSS\",\"request3ppStatus\":\"SUBMITTED\",\"request3ppNumber\":1058973,\"compProdNumber\":\"\",\"assignee\":null,\"licenses\":null},{\"id\":399465,\"productId\":7753,\"versionId\":8607,\"requestDate\":\"2023-09-01\",\"requester\":\"enxxram\",\"compName\":\"@types/react\",\"compVersion\":\"16.8.5\",\"requestType\":\"FOSS\",\"request3ppStatus\":\"SUBMITTED\",\"request3ppNumber\":1058972,\"compProdNumber\":\"\",\"assignee\":null,\"licenses\":null},{\"id\":399464,\"productId\":7753,\"versionId\":8607,\"requestDate\":\"2023-09-01\",\"requester\":\"enxxram\",\"compName\":\"db.v3\",\"compVersion\":\"3.8.0\",\"requestType\":\"FOSS\",\"request3ppStatus\":\"SUBMITTED\",\"request3ppNumber\":1058971,\"compProdNumber\":\"\",\"assignee\":null,\"licenses\":null},{\"id\":399463,\"productId\":7753,\"versionId\":8607,\"requestDate\":\"2023-09-01\",\"requester\":\"enxxram\",\"compName\":\"superagent-promise\",\"compVersion\":\"1.1.0\",\"requestType\":\"FOSS\",\"request3ppStatus\":\"SUBMITTED\",\"request3ppNumber\":1058970,\"compProdNumber\":\"\",\"assignee\":null,\"licenses\":null},{\"id\":399462,\"productId\":7753,\"versionId\":8607,\"requestDate\":\"2023-09-01\",\"requester\":\"enxxram\",\"compName\":\"react-datepicker\",\"compVersion\":\"4.11.0\",\"requestType\":\"FOSS\",\"request3ppStatus\":\"SUBMITTED\",\"request3ppNumber\":1058969,\"compProdNumber\":\"\",\"assignee\":null,\"licenses\":null},{\"id\":399461,\"productId\":7753,\"versionId\":8607,\"requestDate\":\"2023-09-01\",\"requester\":\"enxxram\",\"compName\":\"json-merge-patch\",\"compVersion\":\"0.2.3\",\"requestType\":\"FOSS\",\"request3ppStatus\":\"SUBMITTED\",\"request3ppNumber\":1058968,\"compProdNumber\":\"\",\"assignee\":null,\"licenses\":null},{\"id\":399460,\"productId\":7753,\"versionId\":8607,\"requestDate\":\"2023-09-01\",\"requester\":\"enxxram\",\"compName\":\"webhooks.v5\",\"compVersion\":\"5.17.0\",\"requestType\":\"FOSS\",\"request3ppStatus\":\"SUBMITTED\",\"request3ppNumber\":1058967,\"compProdNumber\":\"\",\"assignee\":null,\"licenses\":null},{\"id\":399459,\"productId\":7753,\"versionId\":8607,\"requestDate\":\"2023-09-01\",\"requester\":\"enxxram\",\"compName\":\"open-golang\",\"compVersion\":\"eef8423979666925a58eb77f9db583e54320d5a4\",\"requestType\":\"FOSS\",\"request3ppStatus\":\"SUBMITTED\",\"request3ppNumber\":1058966,\"compProdNumber\":\"\",\"assignee\":null,\"licenses\":null},{\"id\":399458,\"productId\":7753,\"versionId\":8607,\"requestDate\":\"2023-09-01\",\"requester\":\"enxxram\",\"compName\":\"minio-go\",\"compVersion\":\"7.0.52\",\"requestType\":\"FOSS\",\"request3ppStatus\":\"SUBMITTED\",\"request3ppNumber\":1058965,\"compProdNumber\":\"\",\"assignee\":null,\"licenses\":null},{\"id\":399457,\"productId\":7753,\"versionId\":8607,\"requestDate\":\"2023-09-01\",\"requester\":\"enxxram\",\"compName\":\"bellows\",\"compVersion\":\"f177d92a03d33226a1e1777e4b3a5d824bd2598f\",\"requestType\":\"FOSS\",\"request3ppStatus\":\"SUBMITTED\",\"request3ppNumber\":1058964,\"compProdNumber\":\"\",\"assignee\":null,\"licenses\":null},{\"id\":399456,\"productId\":7753,\"versionId\":8607,\"requestDate\":\"2023-09-01\",\"requester\":\"enxxram\",\"compName\":\"go-diagrams\",\"compVersion\":\"c78c821223d91bb44bde7c9aaeaf04e137566489\",\"requestType\":\"FOSS\",\"request3ppStatus\":\"SUBMITTED\",\"request3ppNumber\":1058963,\"compProdNumber\":\"\",\"assignee\":null,\"licenses\":null},{\"id\":399455,\"productId\":7753,\"versionId\":8607,\"requestDate\":\"2023-09-01\",\"requester\":\"enxxram\",\"compName\":\"argo-ui\",\"compVersion\":\"1.0.0\",\"requestType\":\"FOSS\",\"request3ppStatus\":\"SUBMITTED\",\"request3ppNumber\":1058962,\"compProdNumber\":\"\",\"assignee\":null,\"licenses\":null}],\"pageable\":{\"sort\":{\"sorted\":true,\"unsorted\":false,\"empty\":false},\"pageSize\":500,\"pageNumber\":0,\"offset\":0,\"paged\":true,\"unpaged\":false},\"totalElements\":35,\"totalPages\":1,\"last\":true,\"first\":true,\"number\":0,\"sort\":{\"sorted\":true,\"unsorted\":false,\"empty\":false},\"numberOfElements\":35,\"size\":500,\"empty\":false}\n",
      "1 399491 SUBMITTED \n",
      "2 399490 SUBMITTED \n",
      "3 399489 SUBMITTED \n",
      "4 399488 SUBMITTED \n",
      "5 399487 SUBMITTED \n",
      "6 399486 SUBMITTED \n",
      "7 399484 SUBMITTED \n",
      "8 399483 SUBMITTED \n",
      "9 399482 SUBMITTED \n",
      "10 399481 SUBMITTED \n",
      "11 399480 SUBMITTED \n",
      "12 399479 SUBMITTED \n",
      "13 399478 SUBMITTED \n",
      "14 399477 SUBMITTED \n",
      "15 399476 SUBMITTED \n",
      "16 399475 SUBMITTED \n",
      "17 399473 SUBMITTED \n",
      "18 399472 SUBMITTED \n",
      "19 399471 SUBMITTED \n",
      "20 399470 SUBMITTED \n",
      "21 399469 SUBMITTED \n",
      "22 399468 SUBMITTED \n",
      "23 399467 SUBMITTED \n",
      "24 399466 SUBMITTED \n",
      "25 399465 SUBMITTED \n",
      "26 399464 SUBMITTED \n",
      "27 399463 SUBMITTED \n",
      "28 399462 SUBMITTED \n",
      "29 399461 SUBMITTED \n",
      "30 399460 SUBMITTED \n",
      "31 399459 SUBMITTED \n",
      "32 399458 SUBMITTED \n",
      "33 399457 SUBMITTED \n",
      "34 399456 SUBMITTED \n",
      "35 399455 SUBMITTED \n"
     ]
    }
   ],
   "source": [
    "import requests \n",
    "\n",
    "PRODUCT_ID=7753\n",
    "VERSION_ID=8607\n",
    "URL=f\"https://scas.internal.ericsson.com/ordering/user-requests/my/search?size=500&sort=id%2Cdesc&filter=productId%2Ceq%2C{PRODUCT_ID}&filter=versionId%2Ceq%2C{VERSION_ID}\"\n",
    "\n",
    "headers = {\n",
    "    \"Authorization\": f\"Bearer {SCAS_ACCESS_TOKEN}\"\n",
    "}\n",
    "\n",
    "print(URL)\n",
    "\n",
    "try:\n",
    "    response = requests.get(URL, headers=headers)\n",
    "except Exception as e:\n",
    "    print(\"Error!\")\n",
    "    exit(1)\n",
    "    \n",
    "print(response.status_code)\n",
    "\n",
    "if response.status_code == 200:\n",
    "    print(\"Success!\")\n",
    "    print(response.text, flush=True)\n",
    "#else:\n",
    "#    print(\"Error!\")\n",
    "#    print(response.status_code)\n",
    "#    print(response.text, flush=True)\n",
    "\n",
    "i=0;\n",
    "for entry in response.json()[\"content\"]:\n",
    "    i=i+1\n",
    "    print(i, entry[\"id\"], entry[\"request3ppStatus\"], entry[\"compProdNumber\"])"
   ]
  }
 ],
 "metadata": {
  "kernelspec": {
   "display_name": "test-py3.10",
   "language": "python",
   "name": "python3"
  },
  "language_info": {
   "codemirror_mode": {
    "name": "ipython",
    "version": 3
   },
   "file_extension": ".py",
   "mimetype": "text/x-python",
   "name": "python",
   "nbconvert_exporter": "python",
   "pygments_lexer": "ipython3",
   "version": "3.10.11"
  },
  "orig_nbformat": 4
 },
 "nbformat": 4,
 "nbformat_minor": 2
}
