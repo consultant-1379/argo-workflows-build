{
 "cells": [
  {
   "cell_type": "code",
   "execution_count": 1,
   "metadata": {},
   "outputs": [],
   "source": [
    "COMPONENT='argowf'\n",
    "FOSSA_DEPENDENCIES = f\"../dependencies.{COMPONENT}.yaml\"\n",
    "OUTPUT_FILE = f\"../foss.usage.{COMPONENT}.yaml\""
   ]
  },
  {
   "cell_type": "code",
   "execution_count": 2,
   "metadata": {},
   "outputs": [
    {
     "name": "stdout",
     "output_type": "stream",
     "text": [
      "FOSSA_DEPENDENCIES: ../dependencies.argowf.yaml\n",
      "OUTPUT_FILE: ../foss.usage.argowf.yaml\n"
     ]
    }
   ],
   "source": [
    "print (f\"FOSSA_DEPENDENCIES: {FOSSA_DEPENDENCIES}\")\n",
    "print (f\"OUTPUT_FILE: {OUTPUT_FILE}\")\n"
   ]
  },
  {
   "cell_type": "code",
   "execution_count": 3,
   "metadata": {},
   "outputs": [
    {
     "data": {
      "text/plain": [
       "{'ISC': '\"Including the full license text in a prominent place with the software when the FOSS is distributed.\"\\n',\n",
       " 'MIT': '\"Including the full license text in a prominent place with the software when the FOSS is distributed.\\nThis fulfills, The MIT copyright notice and the MIT permission notices shall be included in all copies or\\nsubstantial portions of the software (in whatever format, either in binary or in source)\"\\n',\n",
       " 'BSD-3-Clause': '\"Including the full license text in a prominent place with the software when the FOSS is distributed. \\nThis fulfills the following: Redistributions of source code must retain the above copyright notice, this list of conditions and the license disclaimer.\\nRedistributions in binary form must reproduce the copyright notice, this list of conditions and the disclaimer in the documentation and/or\\nother materials provided with the distribution\"\\n',\n",
       " 'Apache-2.0': '\"Including the full license text in a prominent place with the software when the FOSS is distributed.\\nThis fulfills the following: Ericsson must give any recipients of the software a copy of the Apache License.\\nEricsson must cause any modified files to carry prominent notices stating that Ericsson changed the files.\\nIn any source form Ericsson distributes, all copyright, patent, trademark and attribution notices must be retained.\\nIf the software includes a NOTICE text file as part of its distribution,\\nthen any derivative work Ericsson distributes must include a readable copy of the attribution notices contained within such NOTICE file.\"\\n',\n",
       " 'BSD-2-Clause': '\"Including the full license text in a prominent place with the software when the FOSS is distributed. \\nThis fulfills the following: Redistributions of source code must retain the above copyright notice, this list of conditions and the license disclaimer.\\nRedistributions in binary form must reproduce the copyright notice, this list of conditions and the disclaimer in the documentation and/or\\nother materials provided with the distribution\"\\n',\n",
       " 'EPL-1.0': '\"Including the full license text in a prominent place with the software when the FOSS is distributed.\"\\n',\n",
       " 'EPL-2.0': '\"Including the full license text in a prominent place with the software when the FOSS is distributed.\"\\n',\n",
       " 'CC0-1.0': '\"Ericsson should not remove any copyright notices within the software\"\\n',\n",
       " 'WTFPL': '\"Ericsson is permitted to copy and distribute verbatim or modified \\ncopies of license document, and changing it is allowed as long as the license name is changed.\"\\n',\n",
       " 'GPL-3.0-or-later': '\"Ericsson must on each copy publish an appropriate copyright notice and disclaimer of warranty and keep intact all notices that refer to the GPLv3 license.\\nEricsson must distribute a copy of the GPLv3 license along with the FOSS.\\nThe files modified must carry prominent notices stating that you changed the files and the date of any change.\\nIf GPLv3-FOSS is used by some program/executable that has interactive user interfaces, the program/executable must be modified so that the GPLv3 license is displayed as well.\\nEricsson must distribute the Corresponding Source Code of the GPL-FOSS to receivers, including modifications and additions that constitute derivative work within the meaning of GPLv3. The scope of source code to be provided: all source code needed to generate, install and run the object code and to modify the work, including e.g. scripts and interface definition files. But not general-purpose tools.\\nThe source code specified above must be provided to customers, mainly on either (a) a \\'durable physical medium customarily used for software interchange\\', or (b) through access to a \\'designated place\\', which could be network server. (b) is permitted if the object code is also provided from the same designated place or is conveyed using peer-to-peer transmission.\\nEricsson must distribute the GPL-FOSSes and its derivative works under the GPLv3 license terms only, and not under Ericsson\\'s standard proprietary terms. Ericsson may not impose any further restrictions on the recipient\\'s exercise of the rights to the GPL-FOSSes.\\nWill any GPLv3 software be included on Ericsson mobile platform, so that the any GPLv3 code will end up on a mobile phone, tablet or other consumer device? If the answer is YES, then it is highly likely that the FOSS cannot be approved. The reason is that some of Ericsson\\'s customers have explicitly forbidden ST-Ericson to use GPLv3 FOSSes in this way. The background is the so-called anti-tivoization requirements in article 6 of GPLv3, which would require customers to provide \\'Installation Information\\'.\\nIf the GPLv3 FOSS will be used in a development tool - will the way the tool function mean that the \\'output\\' from the tool will include any GPLv3 code? If so, the output could be governed by GPLv3 as well. This is a problem if the output will end up on the mobile phone. See question 4.8 above.\"\\n',\n",
       " 'MPL-2.0': '\"You are entitled with the ability to use the software for commercial purposes.\\nYou are entitled with the ability to modify the software and create derivatives.\\nYou are entitled with the ability to distribute original or modified (derivative) works.\\nYou are entitled with the ability to add onto the existing terms (i.e. license parent projects under a different license).\\nYou are not entitled to hold liable if the software/license owner can be charged for damages.\\nThe original copyright must be retained.\\nYou may not use the marks of any Contributor except to pass on copyright, patent and license notices.\\nYou may not remove or alter license notices in the software except to correct known factual errors.\\nYou may not charge for source code form more than it costs to distribute.\"\\n',\n",
       " 'GPL-3.0-only': '\"Ericsson must on each copy publish an appropriate copyright notice and disclaimer of warranty and keep intact all notices that refer to the GPLv3 license.\\nEricsson must distribute a copy of the GPLv3 license along with the FOSS.\\nThe files modified must carry prominent notices stating that you changed the files and the date of any change.\\nIf GPLv3-FOSS is used by some program/executable that has interactive user interfaces, the program/executable must be modified so that the GPLv3 license is displayed as well.\\nEricsson must distribute the Corresponding Source Code of the GPL-FOSS to receivers, including modifications and additions that constitute derivative work within the meaning of GPLv3. The scope of source code to be provided: all source code needed to generate, install and run the object code and to modify the work, including e.g. scripts and interface definition files. But not general-purpose tools.\\nThe source code specified above must be provided to customers, mainly on either (a) a \\'durable physical medium customarily used for software interchange\\', or (b) through access to a \\'designated place\\', which could be network server. (b) is permitted if the object code is also provided from the same designated place or is conveyed using peer-to-peer transmission.\\nEricsson must distribute the GPL-FOSSes and its derivative works under the GPLv3 license terms only, and not under Ericsson\\'s standard proprietary terms. Ericsson may not impose any further restrictions on the recipient\\'s exercise of the rights to the GPL-FOSSes.\\nWill any GPLv3 software be included on Ericsson mobile platform, so that the any GPLv3 code will end up on a mobile phone, tablet or other consumer device? If the answer is YES, then it is highly likely that the FOSS cannot be approved. The reason is that some of Ericsson\\'s customers have explicitly forbidden ST-Ericson to use GPLv3 FOSSes in this way. The background is the so-called anti-tivoization requirements in article 6 of GPLv3, which would require customers to provide \\'Installation Information\\'\\nIf the GPLv3 FOSS will be used in a development tool - will the way the tool function mean that the \\'output\\' from the tool will include any GPLv3 code? If so, the output could be governed by GPLv3 as well. This is a problem if the output will end up on the mobile phone. See question 4.8 above.\"\\n',\n",
       " 'LGPL-2.1-only': '\"Ericsson must include a copyright notice and warranty disclaimer on each copy, preserving all LGPL License references.\\nDistribute the LGPL license with the LGPL-FOSS.\\nModified work must be a software library.\\nModified files must indicate changes and modification dates.\\nDistribute complete machine-readable source code of LGPL-FOSS, including modifications and derivative works. Providpreferred source code form, interface definition files, compilation/installation scripts, and tool information.\\nGive notice with each copy of Ericsson\\'s work using LGPL-FOSS, stating LGPL use and coverage.\\nIf Ericsson\\'s work displays copyright notices, include LGPL copyright notice and reference.\\nAccompany work using LGPL-FOSS with complete source code, including modifications.\\nEnable modification of LGPL-FOSS and relinking for modified executables.\\nDistribute LGPL-FOSS and derivative works under LGPL terms, free of charge, without further restrictions. Nproprietary terms.\\nLicense permits executable modification and reverse engineering for debugging.\\nIf combining LGPL-FOSS with non-LGPL library, provide notice and explain finding uncombined form.\\nModified work must be a software library.\\nDistribute LGPL-FOSS and derivative works under LGPL terms, free of charge, without additional restrictions.\"\\n',\n",
       " 'Public Domain': '\"This is free and unencumbered software released into the public domain. To the extent possible under law, Pascal S. de Kloe has waived all copyright and related or neighboring rights to GoE. This work is published from The Netherlands.\\nAnyone is free to copy, modify, publish, use, compile, sell, or distribute this software, either in source code form or as a compiled binary, for any purpose, commercial or non-commercial, and by any means.\\nIn jurisdictions that recognize copyright laws, the author or authors of this software dedicate any and all copyright interest in the software to the public domain. We make this dedication for the benefit\\nof the public at large and to the detriment of our heirs and successors. We intend this dedication to be an overt act of relinquishment in perpetuity of all present and future rights to this software under copyright law.\"'}"
      ]
     },
     "execution_count": 3,
     "metadata": {},
     "output_type": "execute_result"
    }
   ],
   "source": [
    "import yaml \n",
    "\n",
    "with open(\"obligations_text.yaml\") as f:\n",
    "    license_dict = yaml.load(f, Loader=yaml.FullLoader)\n",
    "\n",
    "license_dict\n"
   ]
  },
  {
   "cell_type": "code",
   "execution_count": 4,
   "metadata": {},
   "outputs": [
    {
     "name": "stdout",
     "output_type": "stream",
     "text": [
      "Requirement already satisfied: pandas in /Users/epxxsac/miniconda3/envs/python11/lib/python3.11/site-packages (2.2.0)\n",
      "Requirement already satisfied: pyyaml in /Users/epxxsac/miniconda3/envs/python11/lib/python3.11/site-packages (6.0.1)\n",
      "Requirement already satisfied: jinja2 in /Users/epxxsac/miniconda3/envs/python11/lib/python3.11/site-packages (3.1.3)\n",
      "Requirement already satisfied: numpy<2,>=1.23.2 in /Users/epxxsac/miniconda3/envs/python11/lib/python3.11/site-packages (from pandas) (1.26.3)\n",
      "Requirement already satisfied: python-dateutil>=2.8.2 in /Users/epxxsac/miniconda3/envs/python11/lib/python3.11/site-packages (from pandas) (2.8.2)\n",
      "Requirement already satisfied: pytz>=2020.1 in /Users/epxxsac/miniconda3/envs/python11/lib/python3.11/site-packages (from pandas) (2023.3.post1)\n",
      "Requirement already satisfied: tzdata>=2022.7 in /Users/epxxsac/miniconda3/envs/python11/lib/python3.11/site-packages (from pandas) (2023.4)\n",
      "Requirement already satisfied: MarkupSafe>=2.0 in /Users/epxxsac/miniconda3/envs/python11/lib/python3.11/site-packages (from jinja2) (2.1.4)\n",
      "Requirement already satisfied: six>=1.5 in /Users/epxxsac/miniconda3/envs/python11/lib/python3.11/site-packages (from python-dateutil>=2.8.2->pandas) (1.16.0)\n"
     ]
    }
   ],
   "source": [
    "! pip install pandas pyyaml jinja2"
   ]
  },
  {
   "cell_type": "code",
   "execution_count": 5,
   "metadata": {},
   "outputs": [
    {
     "name": "stderr",
     "output_type": "stream",
     "text": [
      "/var/folders/2y/nm3c9qfx2f18k99cjg94b_1h0000gp/T/ipykernel_28623/1491050532.py:1: DeprecationWarning: \n",
      "Pyarrow will become a required dependency of pandas in the next major release of pandas (pandas 3.0),\n",
      "(to allow more performant data types, such as the Arrow string type, and better interoperability with other libraries)\n",
      "but was not found to be installed on your system.\n",
      "If this would cause problems for you,\n",
      "please provide us feedback at https://github.com/pandas-dev/pandas/issues/54466\n",
      "        \n",
      "  import yaml, pandas\n"
     ]
    }
   ],
   "source": [
    "import yaml, pandas"
   ]
  },
  {
   "cell_type": "code",
   "execution_count": 6,
   "metadata": {},
   "outputs": [],
   "source": [
    "with open(FOSSA_DEPENDENCIES, \"r\") as f:\n",
    "    dep_dict = yaml.load(f, Loader=yaml.FullLoader)"
   ]
  },
  {
   "cell_type": "code",
   "execution_count": 7,
   "metadata": {},
   "outputs": [],
   "source": [
    "flat_dict = {}\n",
    "invalid_entries = []\n",
    "for entry in dep_dict['dependencies']:\n",
    "    if entry['bazaar']['register'] == \"no\":\n",
    "        primID=entry['bazaar']['prim']\n",
    "        foss_product_number=primID.split(\"/\")[1]\n",
    "        nested_dict = {}\n",
    "        nested_dict[\"ID\"] = entry[\"ID\"]\n",
    "        usage = entry['bazaar']['component_highlevel_description']\n",
    "        if len(usage.rstrip('\"').lstrip('\"').strip()) == 0:\n",
    "            usage = entry[\"additional_info\"][\"fossa-attribution\"][\"Description\"]\n",
    "        nested_dict[\"usage\"] = usage\n",
    "        nested_dict[\"obligation\"] = \"unknown\"\n",
    "        nested_dict[\"license\"] = \"unknown\"\n",
    "        nested_dict[\"primID\"] = primID\n",
    "        if 'selected_licenses' in entry and len(entry['selected_licenses']) > 0:\n",
    "            nested_dict[\"license\"] = entry['selected_licenses'][0]\n",
    "        elif 'selected_licenses' in entry['mimer'] and len(entry['mimer']['selected_licenses']) > 0:\n",
    "            nested_dict[\"license\"] = entry['mimer']['selected_licenses'][0]\n",
    "        elif 'licenses' in entry and len(entry['licenses']) >= 1:\n",
    "            nested_dict[\"license\"] = entry['licenses'][0]\n",
    "        \n",
    "        if nested_dict[\"license\"] in license_dict.keys():\n",
    "            nested_dict[\"obligation\"] = license_dict[nested_dict[\"license\"]]\n",
    "        elif nested_dict[\"license\"] == \"MIT License\":\n",
    "            nested_dict[\"license\"] = \"MIT\"\n",
    "            nested_dict[\"obligation\"] = license_dict[\"MIT\"]\n",
    "        \n",
    "        if nested_dict[\"obligation\"] == \"unknown\" or nested_dict[\"license\"] == \"unknown\":\n",
    "            invalid_entries.append(nested_dict)\n",
    "        else:\n",
    "            if foss_product_number in flat_dict.keys():\n",
    "                flat_dict[foss_product_number].append(nested_dict)\n",
    "            else:\n",
    "                flat_dict[foss_product_number] = [nested_dict]\n"
   ]
  },
  {
   "cell_type": "code",
   "execution_count": 8,
   "metadata": {},
   "outputs": [
    {
     "name": "stdout",
     "output_type": "stream",
     "text": [
      "No invalid entries found\n"
     ]
    }
   ],
   "source": [
    "\n",
    "invalid_entries      \n",
    "\n",
    "if len(invalid_entries) > 0:\n",
    "    print(\"Invalid entries found\")\n",
    "    \n",
    "    import pandas as pd \n",
    "    df = pd.DataFrame(invalid_entries)\n",
    "    df[[\"ID\", \"primID\", \"license\"]].to_csv(f\"unknown_licenses_{COMPONENT}.csv\", index=False)\n",
    "\n",
    "else:\n",
    "    print(\"No invalid entries found\")"
   ]
  },
  {
   "cell_type": "code",
   "execution_count": 9,
   "metadata": {},
   "outputs": [],
   "source": [
    "if len(invalid_entries) > 0:\n",
    "    df.groupby(\"license\")[[\"ID\"]].count()\n",
    "\n"
   ]
  },
  {
   "cell_type": "code",
   "execution_count": 10,
   "metadata": {},
   "outputs": [],
   "source": [
    "from collections import OrderedDict\n",
    "ordered_dict=OrderedDict(sorted(flat_dict.items()))"
   ]
  },
  {
   "cell_type": "code",
   "execution_count": 11,
   "metadata": {},
   "outputs": [],
   "source": [
    "def is_ascii(usage_text):\n",
    "    return all(ord(c) < 128 for c in usage_text)\n",
    "    "
   ]
  },
  {
   "cell_type": "code",
   "execution_count": 12,
   "metadata": {},
   "outputs": [
    {
     "data": {
      "text/plain": [
       "[OrderedDict([('product_number', 'CAX1057062'),\n",
       "              ('license', 'BSD-3-Clause'),\n",
       "              ('obligation',\n",
       "               '\"Including the full license text in a prominent place with the software when the FOSS is distributed. \\nThis fulfills the following: Redistributions of source code must retain the above copyright notice, this list of conditions and the license disclaimer.\\nRedistributions in binary form must reproduce the copyright notice, this list of conditions and the disclaimer in the documentation and/or\\nother materials provided with the distribution\"'),\n",
       "              ('usage', '\"Go OAuth2\"')]),\n",
       " OrderedDict([('product_number', 'CAX1058617'),\n",
       "              ('license', 'Apache-2.0'),\n",
       "              ('obligation',\n",
       "               '\"Including the full license text in a prominent place with the software when the FOSS is distributed.\\nThis fulfills the following: Ericsson must give any recipients of the software a copy of the Apache License.\\nEricsson must cause any modified files to carry prominent notices stating that Ericsson changed the files.\\nIn any source form Ericsson distributes, all copyright, patent, trademark and attribution notices must be retained.\\nIf the software includes a NOTICE text file as part of its distribution,\\nthen any derivative work Ericsson distributes must include a readable copy of the attribution notices contained within such NOTICE file.\"'),\n",
       "              ('usage',\n",
       "               '\"Go-MySQL-Driver is a lightweight and fast MySQL-Driver for Go\\'s (golang) database/sql package\"')]),\n",
       " OrderedDict([('product_number', 'CAX1058623'),\n",
       "              ('license', 'MIT'),\n",
       "              ('obligation',\n",
       "               '\"Including the full license text in a prominent place with the software when the FOSS is distributed.\\nThis fulfills, The MIT copyright notice and the MIT permission notices shall be included in all copies or\\nsubstantial portions of the software (in whatever format, either in binary or in source)\"'),\n",
       "              ('usage',\n",
       "               '\"A sacred extension to the standard go testing package. Go code (golang) set of packages that provide many tools for testifying that your code will behave as you intend.\"')]),\n",
       " OrderedDict([('product_number', 'CAX1058636'),\n",
       "              ('license', 'BSD-3-Clause'),\n",
       "              ('obligation',\n",
       "               '\"Including the full license text in a prominent place with the software when the FOSS is distributed. \\nThis fulfills the following: Redistributions of source code must retain the above copyright notice, this list of conditions and the license disclaimer.\\nRedistributions in binary form must reproduce the copyright notice, this list of conditions and the disclaimer in the documentation and/or\\nother materials provided with the distribution\"'),\n",
       "              ('usage',\n",
       "               '\"[mirror] Go supplementary cryptography libraries\"')]),\n",
       " OrderedDict([('product_number', 'CAX1059580'),\n",
       "              ('license', 'BSD-2-Clause'),\n",
       "              ('obligation',\n",
       "               '\"Including the full license text in a prominent place with the software when the FOSS is distributed. \\nThis fulfills the following: Redistributions of source code must retain the above copyright notice, this list of conditions and the license disclaimer.\\nRedistributions in binary form must reproduce the copyright notice, this list of conditions and the disclaimer in the documentation and/or\\nother materials provided with the distribution\"'),\n",
       "              ('usage',\n",
       "               '\"Package errors provides simple error handling primitives.\"')]),\n",
       " OrderedDict([('product_number', 'CAX1059731'),\n",
       "              ('license', 'MIT'),\n",
       "              ('obligation',\n",
       "               '\"Including the full license text in a prominent place with the software when the FOSS is distributed.\\nThis fulfills, The MIT copyright notice and the MIT permission notices shall be included in all copies or\\nsubstantial portions of the software (in whatever format, either in binary or in source)\"'),\n",
       "              ('usage',\n",
       "               '\"Logrus is a structured logger for Go (golang), completely API compatible with\\nthe standard library logger.\"')]),\n",
       " OrderedDict([('product_number', 'CAX1059823'),\n",
       "              ('license', 'BSD-3-Clause'),\n",
       "              ('obligation',\n",
       "               '\"Including the full license text in a prominent place with the software when the FOSS is distributed. \\nThis fulfills the following: Redistributions of source code must retain the above copyright notice, this list of conditions and the license disclaimer.\\nRedistributions in binary form must reproduce the copyright notice, this list of conditions and the disclaimer in the documentation and/or\\nother materials provided with the distribution\"'),\n",
       "              ('usage', '\"Go support for Google\\'s protocol buffers\"')]),\n",
       " OrderedDict([('product_number', 'CAX1059833'),\n",
       "              ('license', 'BSD-3-Clause'),\n",
       "              ('obligation',\n",
       "               '\"Including the full license text in a prominent place with the software when the FOSS is distributed. \\nThis fulfills the following: Redistributions of source code must retain the above copyright notice, this list of conditions and the license disclaimer.\\nRedistributions in binary form must reproduce the copyright notice, this list of conditions and the disclaimer in the documentation and/or\\nother materials provided with the distribution\"'),\n",
       "              ('usage',\n",
       "               '\"Package gorilla/websocket is a fast, well-tested and widely used WebSocket implementation for Go.\"')]),\n",
       " OrderedDict([('product_number', 'CAX1059885'),\n",
       "              ('license', 'MIT'),\n",
       "              ('obligation',\n",
       "               '\"Including the full license text in a prominent place with the software when the FOSS is distributed.\\nThis fulfills, The MIT copyright notice and the MIT permission notices shall be included in all copies or\\nsubstantial portions of the software (in whatever format, either in binary or in source)\"'),\n",
       "              ('usage',\n",
       "               '\"Viper is a complete configuration solution for go applications including 12 factor apps. It is designed to work within an application, and can handle all types of configuration needs and formats.\"')]),\n",
       " OrderedDict([('product_number', 'CAX1059886'),\n",
       "              ('license', 'BSD-3-Clause'),\n",
       "              ('obligation',\n",
       "               '\"Including the full license text in a prominent place with the software when the FOSS is distributed. \\nThis fulfills the following: Redistributions of source code must retain the above copyright notice, this list of conditions and the license disclaimer.\\nRedistributions in binary form must reproduce the copyright notice, this list of conditions and the disclaimer in the documentation and/or\\nother materials provided with the distribution\"'),\n",
       "              ('usage',\n",
       "               '\"pflag is a drop-in replacement for Go\\'s flag package, implementing POSIX/GNU-style --flags.\"')])]"
      ]
     },
     "execution_count": 12,
     "metadata": {},
     "output_type": "execute_result"
    }
   ],
   "source": [
    "records=[]\n",
    "nonAsciiUsage = []\n",
    "quotes='\"'\n",
    "for key,value in ordered_dict.items():\n",
    "    first_entry = value[0] \n",
    "    ordered_dict = OrderedDict()\n",
    "    ordered_dict[\"product_number\"] = key\n",
    "    ordered_dict[\"license\"] = first_entry[\"license\"]\n",
    "    ordered_dict[\"obligation\"] = first_entry[\"obligation\"].rstrip('\\n')\n",
    "    usage = first_entry[\"usage\"].strip('\\\"')\n",
    "    ordered_dict[\"usage\"] = f\"{quotes}{usage}{quotes}\"\n",
    "    if not is_ascii(ordered_dict[\"usage\"]):\n",
    "        nonAsciiUsage.append(f\"Non-ascii character found in usage for product number {key}\", flush=True)\n",
    "    records.append(ordered_dict)\n",
    "\n",
    "records[0:10]"
   ]
  },
  {
   "cell_type": "code",
   "execution_count": 13,
   "metadata": {},
   "outputs": [],
   "source": [
    "for record in nonAsciiUsage:\n",
    "    print(record)"
   ]
  },
  {
   "cell_type": "code",
   "execution_count": 14,
   "metadata": {},
   "outputs": [],
   "source": [
    "from jinja2 import Template\n",
    "\n",
    "template = Template(\"\"\"\n",
    "#\n",
    "# COPYRIGHT Ericsson 2022\n",
    "#\n",
    "#\n",
    "#\n",
    "# The copyright to the computer program(s) herein is the property of\n",
    "#\n",
    "# Ericsson Inc. The programs may be used and/or copied only with written\n",
    "#\n",
    "# permission from Ericsson Inc. or in accordance with the terms and\n",
    "#\n",
    "# conditions stipulated in the agreement/contract under which the\n",
    "#\n",
    "# program(s) have been supplied.\n",
    "#\n",
    "\n",
    "modelVersion: 2.0\n",
    "fosses:\n",
    "{%- filter indent(2) -%}\n",
    "{% for record in records %}\n",
    "- product_number: {{ record.product_number }}\n",
    "  license: {{ record.license }}\n",
    "  obligation: |\n",
    "    {{ record.obligation | indent(width=4) }}\n",
    "  usage: |\n",
    "    {{ record.usage | indent(width=4) -}}\n",
    "{% endfor %}\n",
    "{%- endfilter -%}\n",
    "\"\"\")\n"
   ]
  },
  {
   "cell_type": "code",
   "execution_count": 15,
   "metadata": {},
   "outputs": [],
   "source": [
    "output = template.render(records=records)"
   ]
  },
  {
   "cell_type": "code",
   "execution_count": 16,
   "metadata": {},
   "outputs": [],
   "source": [
    "with open(OUTPUT_FILE, 'w') as f:\n",
    "    f.write(output)"
   ]
  },
  {
   "cell_type": "code",
   "execution_count": null,
   "metadata": {},
   "outputs": [],
   "source": []
  }
 ],
 "metadata": {
  "kernelspec": {
   "display_name": "Python 3.8.13 ('test-env-3.8')",
   "language": "python",
   "name": "python3"
  },
  "language_info": {
   "codemirror_mode": {
    "name": "ipython",
    "version": 3
   },
   "file_extension": ".py",
   "mimetype": "text/x-python",
   "name": "python",
   "nbconvert_exporter": "python",
   "pygments_lexer": "ipython3",
   "version": "3.11.7"
  },
  "orig_nbformat": 4,
  "vscode": {
   "interpreter": {
    "hash": "b2c512db8b59e6637dbadeefe5e52ed26f81f17dffafeed8e966e40243c3baf9"
   }
  }
 },
 "nbformat": 4,
 "nbformat_minor": 2
}
